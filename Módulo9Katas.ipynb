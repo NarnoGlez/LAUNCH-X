{
  "cells": [
    {
      "cell_type": "markdown",
      "metadata": {},
      "source": [
        "# Ejercicio: Uso de funciones en Python"
      ]
    },
    {
      "cell_type": "markdown",
      "metadata": {},
      "source": [
        "### Ejercicio 1: Trabajar con argumentos en funciones\n",
        "\n",
        "Los argumentos requeridos en las funciones se utilizan cuando las funciones necesitan que esos argumentos funcionen correctamente. En este ejercicio, construirás un informe de combustible que requiere información de varias ubicaciones de combustible en todo el cohete.\n",
        "\n"
      ]
    },
    {
      "cell_type": "markdown",
      "metadata": {},
      "source": [
        "> **TIP**\n",
        "> Dedica unos minutos para tratar de encontrar una solución. Luego desplázate hacia abajo hasta la parte inferior para ver si has logrado compilar el programa de acuerdo con las especificaciones\n",
        "\n",
        "Comienza por crear una función que necesite tres lecturas de combustible y devuelva un informe:"
      ]
    },
    {
      "cell_type": "code",
      "execution_count": 1,
      "metadata": {},
      "outputs": [],
      "source": [
        "# Función para leer 3 tanques de combustible y muestre el promedio\n",
        "\n",
        "def combustibletotal (tanquechico, tanquemediano, tanquegrande):\n",
        "    combustiblepromedio = (tanquechico + tanquemediano + tanquegrande) / 3\n",
        "    return f\"\"\"Reporte de combustible\n",
        "    Combustible promedio = {combustiblepromedio}\n",
        "    Tanque grande = {tanquegrande}\n",
        "    Tanque mediano = {tanquemediano}\n",
        "    Tanque chico = {tanquechico} \"\"\"\n"
      ]
    },
    {
      "cell_type": "markdown",
      "metadata": {},
      "source": [
        "Ahora que hemos definido la función de informes, vamos a comprobarlo. Para esta misión, los tanques no están llenos:"
      ]
    },
    {
      "cell_type": "code",
      "execution_count": 2,
      "metadata": {},
      "outputs": [
        {
          "name": "stdout",
          "output_type": "stream",
          "text": [
            "Reporte de combustible\n",
            "    Combustible promedio = 20.0\n",
            "    Tanque grande = 30\n",
            "    Tanque mediano = 20\n",
            "    Tanque chico = 10 \n"
          ]
        }
      ],
      "source": [
        "\n",
        "# Llamamos a la función que genera el reporte print(funcion(tanque1, tanque2, tanque3))\n",
        "\n",
        "print(combustibletotal(10,20,30))"
      ]
    },
    {
      "cell_type": "markdown",
      "metadata": {},
      "source": [
        "En lugar de simplemente crear el informe, la función también está calculando el promedio. Mejora la legibilidad extrayendo el cálculo promedio de la función en una nueva función para que el promedio se pueda hacer de forma independiente:"
      ]
    },
    {
      "cell_type": "code",
      "execution_count": 5,
      "metadata": {},
      "outputs": [
        {
          "data": {
            "text/plain": [
              "12.0"
            ]
          },
          "execution_count": 5,
          "metadata": {},
          "output_type": "execute_result"
        }
      ],
      "source": [
        "# Función promedio \n",
        "\n",
        "def promedios(valores):\n",
        "    total = sum(valores)\n",
        "    numerodeitems = len(valores)\n",
        "    return total /numerodeitems\n",
        "    \n",
        "promedios([12,12,12,12])"
      ]
    },
    {
      "cell_type": "markdown",
      "metadata": {},
      "source": [
        "Ahora actualiza la función de informes para llamando a la nueva función del promedio:\n"
      ]
    },
    {
      "cell_type": "code",
      "execution_count": 6,
      "metadata": {},
      "outputs": [
        {
          "name": "stdout",
          "output_type": "stream",
          "text": [
            "Reporte de combustible  \n",
            "    Combustible promedio = 33.333333333333336  \n",
            "    Tanque mediano = 30  \n",
            "    tanque pequeño = 20  \n",
            "    tanque grande = 50 \n"
          ]
        }
      ],
      "source": [
        "# Actualiza la función\n",
        "\n",
        "def combustibletotal (tanquechico,tanquemediano,tanquegrande):\n",
        "    combustiblepromedio = (tanquechico + tanquegrande + tanquemediano) / 3\n",
        "    return f\"\"\"Reporte de combustible  \n",
        "    Combustible promedio = {promedios([tanquechico,tanquegrande,tanquemediano])}  \n",
        "    Tanque mediano = {tanquemediano}  \n",
        "    tanque pequeño = {tanquechico}  \n",
        "    tanque grande = {tanquegrande} \"\"\"\n",
        "\n",
        "print(combustibletotal(20,30,50))"
      ]
    },
    {
      "cell_type": "markdown",
      "metadata": {},
      "source": [
        "> Recuerda: Lo importante es intentarlo, puedes auxiliarte de internet, libros, etc. El objetivo de una kata es la comprobación de la comprensión de la lección y su aplicación inmediata a la resolución de problemas. Go for it!"
      ]
    },
    {
      "cell_type": "markdown",
      "metadata": {},
      "source": [
        "## Ejercicio 2: Trabajo con argumentos de palabra clave"
      ]
    },
    {
      "cell_type": "markdown",
      "metadata": {},
      "source": [
        "### Ejercicio : Trabajar con argumentos de palabras clave en funciones\n",
        "En este ejercicio, construirás un informe de cohete que requiere varias piezas de información, como el tiempo hasta el destino, el combustible a la izquierda y el nombre del destino. Comienza por crear una función que creará un informe preciso de la misión:"
      ]
    },
    {
      "cell_type": "code",
      "execution_count": 7,
      "metadata": {},
      "outputs": [
        {
          "name": "stdout",
          "output_type": "stream",
          "text": [
            "Reporte de lanzamiento\n",
            "    El tiempo de vuelo a luna es = 212\n",
            "    destino = luna\n",
            "    Combustible total = 120\n"
          ]
        }
      ],
      "source": [
        "# Función con un informe preciso de la misión. Considera hora de prelanzamiento, tiempo de vuelo, destino, tanque externo y tanque interno\n",
        "\n",
        "def misiondeviaje(tiempolanzamiento, tiempodevuelo, destino, tanqueinterno, tanqueexterno):\n",
        "    return f\"\"\"Reporte de lanzamiento\n",
        "    El tiempo de vuelo a {destino} es = {tiempodevuelo + tiempolanzamiento}\n",
        "    destino = {destino}\n",
        "    Combustible total = {tanqueexterno+ tanqueinterno}\"\"\"\n",
        "\n",
        "print(misiondeviaje(12, 200, \"luna\", 40, 80))"
      ]
    },
    {
      "cell_type": "markdown",
      "metadata": {},
      "source": [
        "La función es problemática porque no se puede adaptar para minutos adicionales o tanques adicionales de combustible. Hazlo más flexible permitiendo cualquier número de pasos basados en el tiempo y cualquier número de tanques. En lugar de usar `*args` y `**kwargs`, aprovecha el hecho de que puedes usar cualquier nombre que desees. Asegurate que la función sea más legible mediante el uso de nombres de variables que están asociados con las entradas, como `*minutes` y `**fuel_reservoirs`:"
      ]
    },
    {
      "cell_type": "code",
      "execution_count": 8,
      "metadata": {},
      "outputs": [
        {
          "name": "stdout",
          "output_type": "stream",
          "text": [
            "Reporte de lanzamiento\n",
            "    El tiempo de vuelo a Luna es = 215 minutos\n",
            "    destino = Luna\n",
            "    Combustible total = 312 litros\n"
          ]
        }
      ],
      "source": [
        "# Escribe tu nueva función de reporte considerando lo anterior\n",
        "\n",
        "def misiondeviaje(destino, *minutos, **tanques):\n",
        "    return f\"\"\"Reporte de lanzamiento\n",
        "    El tiempo de vuelo a {destino} es = {sum(minutos)} minutos\n",
        "    destino = {destino}\n",
        "    Combustible total = {sum(tanques.values())} litros\"\"\"\n",
        "\n",
        "print(misiondeviaje(\"Luna\", 12,23, 40, 70, 70, tanque1=12, tanque23=300))"
      ]
    },
    {
      "cell_type": "markdown",
      "metadata": {},
      "source": [
        "Debido a que el combustible que queda en los tanques es específico de cada tanque, actualiza la función para usar el nombre de cada tanque en el informe:"
      ]
    },
    {
      "cell_type": "code",
      "execution_count": null,
      "metadata": {},
      "outputs": [],
      "source": [
        "# Escribe tu nueva función\n",
        "\n",
        "def misiondeviaje(destino, *minutos, **tanques):\n",
        "    reporteprincipal = f\"\"\"Reporte de lanzamiento\n",
        "    El tiempo de vuelo a {destino} es = {sum(minutos)} minutos\n",
        "    destino = {destino}\n",
        "    Combustible total = {sum(tanques.values())} litros\"\"\"\n",
        "    for nombretanque, litros in tanques.items():\n",
        "        reporteprincipal += f\"\\n    {nombretanque} litros ---> {litros}\"\n",
        "    return reporteprincipal\n",
        "\n",
        "print(misiondeviaje(\"Luna\", 12,23, 40, 70, 70, tanque1=12, tanque23=300))"
      ]
    }
  ],
  "metadata": {
    "interpreter": {
      "hash": "205095b8b86ea82a021a8fc2ffba2b3bc9f8d0be25999901963b225939f75778"
    },
    "kernelspec": {
      "display_name": "Python 3.8.10 64-bit ('tmp': conda)",
      "name": "python3"
    },
    "language_info": {
      "codemirror_mode": {
        "name": "ipython",
        "version": 3
      },
      "file_extension": ".py",
      "mimetype": "text/x-python",
      "name": "python",
      "nbconvert_exporter": "python",
      "pygments_lexer": "ipython3",
      "version": "3.10.2"
    },
    "nteract": {
      "version": "nteract-front-end@1.0.0"
    },
    "orig_nbformat": 4
  },
  "nbformat": 4,
  "nbformat_minor": 2
}
